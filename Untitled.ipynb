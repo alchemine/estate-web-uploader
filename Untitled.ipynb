{
 "cells": [
  {
   "cell_type": "code",
   "execution_count": 1,
   "id": "1dcac948",
   "metadata": {},
   "outputs": [],
   "source": [
    "from estate_web_uploader._utils import *\n",
    "\n",
    "from selenium.webdriver.support.ui import WebDriverWait, Select\n",
    "from selenium.webdriver.support import expected_conditions as EC\n",
    "\n",
    "\n",
    "# 사이트 접속\n",
    "driver = get_driver()\n",
    "driver.get(\"https://www.tojidanawa.com/\")\n",
    "\n",
    "\n",
    "# 사이트 로그인\n",
    "submit_text_retry(driver, \"ans5454\", css_selector=\"#member_id\")\n",
    "submit_text_retry(driver, \"tkajszld@94\", css_selector=\"#pass\", send_return=True)\n",
    "send_active_return(driver)\n",
    "\n",
    "# 매물 등록\n",
    "## 매물 등록하기 클릭\n",
    "click_button_retry(driver, \"#main1 > table > tbody > tr > td:nth-child(1) > a:nth-child(3) > img\")"
   ]
  },
  {
   "cell_type": "code",
   "execution_count": 6,
   "id": "99ad9be7",
   "metadata": {},
   "outputs": [],
   "source": [
    "cat_elem = driver.find_element(By.CSS_SELECTOR, \"#category1\")"
   ]
  },
  {
   "cell_type": "code",
   "execution_count": 12,
   "id": "325139dc",
   "metadata": {},
   "outputs": [],
   "source": [
    "cat_elem = driver.find_element(By.ID, \"category1\")"
   ]
  },
  {
   "cell_type": "code",
   "execution_count": 13,
   "id": "a54fab27",
   "metadata": {},
   "outputs": [
    {
     "data": {
      "text/plain": [
       "'\\n\\t\\t\\t<option value=\"\">대분류</option>\\n\\t\\t\\t<option value=\"508\">토지 | 대지</option>\\t<option value=\"653\">토지 | 전.답</option>\\t<option value=\"506\">토지 | 임야</option>\\t<option value=\"657\">토지 | 공장.창고부지</option>\\t<option value=\"505\">토지 | 기타토지</option>\\t<option value=\"685\">상가 | 신축상가</option>\\t<option value=\"684\">상가 | 권리금無</option>\\t<option value=\"501\">상가 | 음식점</option>\\t<option value=\"649\">상가 | 학원</option>\\t<option value=\"661\">상가 | 사무실</option>\\t<option value=\"663\">상가 | PC방.당구장</option>\\t<option value=\"664\">상가 | 노래방.카페</option>\\t<option value=\"665\">상가 | 판매시설</option>\\t<option value=\"686\">상가 | 상가건물</option>\\t<option value=\"676\">상가 | 기타상가</option>\\t<option value=\"666\">숙박 | 전원주택</option>\\t<option value=\"678\">숙박 | 상가주택</option>\\t<option value=\"683\">숙박 | 다가구주택</option>\\t<option value=\"682\">숙박 | 빌라건물</option>\\t<option value=\"677\">숙박 | 펜션</option>\\t<option value=\"681\">숙박 | 모텔.여관</option>\\t<option value=\"679\">숙박 | 기타숙박시설</option>\\t<option value=\"651\">산업 | 공장</option>\\t<option value=\"671\">산업 | 창고</option>\\t<option value=\"680\">산업 | 기타산업시설</option>\\t\\n\\t\\t'"
      ]
     },
     "execution_count": 13,
     "metadata": {},
     "output_type": "execute_result"
    }
   ],
   "source": [
    "cat_elem.get_attribute('innerHTML')"
   ]
  },
  {
   "cell_type": "code",
   "execution_count": 15,
   "id": "f9729edb",
   "metadata": {},
   "outputs": [],
   "source": [
    "# JavaScript를 사용하여 옵션을 선택\n",
    "driver.execute_script(\"var select = document.getElementById('category1'); for(var i = 0; i < select.options.length; i++){ if(select.options[i].text == '대분류'){ select.selectedIndex = i; break; }}\")"
   ]
  },
  {
   "cell_type": "code",
   "execution_count": 3,
   "id": "93ab827f",
   "metadata": {},
   "outputs": [
    {
     "ename": "TimeoutException",
     "evalue": "Message: \n",
     "output_type": "error",
     "traceback": [
      "\u001b[1;31m---------------------------------------------------------------------------\u001b[0m",
      "\u001b[1;31mTimeoutException\u001b[0m                          Traceback (most recent call last)",
      "Cell \u001b[1;32mIn[3], line 3\u001b[0m\n\u001b[0;32m      1\u001b[0m \u001b[38;5;66;03m## 카테고리 및 매물옵션 선택\u001b[39;00m\n\u001b[0;32m      2\u001b[0m wait \u001b[38;5;241m=\u001b[39m WebDriverWait(driver, \u001b[38;5;241m10\u001b[39m)\n\u001b[1;32m----> 3\u001b[0m cat_elem \u001b[38;5;241m=\u001b[39m \u001b[43mwait\u001b[49m\u001b[38;5;241;43m.\u001b[39;49m\u001b[43muntil\u001b[49m\u001b[43m(\u001b[49m\u001b[43mEC\u001b[49m\u001b[38;5;241;43m.\u001b[39;49m\u001b[43melement_to_be_clickable\u001b[49m\u001b[43m(\u001b[49m\u001b[43m(\u001b[49m\u001b[43mBy\u001b[49m\u001b[38;5;241;43m.\u001b[39;49m\u001b[43mCSS_SELECTOR\u001b[49m\u001b[43m,\u001b[49m\u001b[43m \u001b[49m\u001b[38;5;124;43m\"\u001b[39;49m\u001b[38;5;124;43m#category1\u001b[39;49m\u001b[38;5;124;43m\"\u001b[39;49m\u001b[43m)\u001b[49m\u001b[43m)\u001b[49m\u001b[43m)\u001b[49m\n\u001b[0;32m      4\u001b[0m select_object \u001b[38;5;241m=\u001b[39m Select(cat_elem)\n\u001b[0;32m      5\u001b[0m select_object\u001b[38;5;241m.\u001b[39mselect_by_visible_text(\u001b[38;5;124m\"\u001b[39m\u001b[38;5;124m상가 | 사무실\u001b[39m\u001b[38;5;124m\"\u001b[39m)\n",
      "File \u001b[1;32m~\\OneDrive - 인하대학교\\cs\\project\\estate-web-uploader\\venv\\lib\\site-packages\\selenium\\webdriver\\support\\wait.py:105\u001b[0m, in \u001b[0;36mWebDriverWait.until\u001b[1;34m(self, method, message)\u001b[0m\n\u001b[0;32m    103\u001b[0m     \u001b[38;5;28;01mif\u001b[39;00m time\u001b[38;5;241m.\u001b[39mmonotonic() \u001b[38;5;241m>\u001b[39m end_time:\n\u001b[0;32m    104\u001b[0m         \u001b[38;5;28;01mbreak\u001b[39;00m\n\u001b[1;32m--> 105\u001b[0m \u001b[38;5;28;01mraise\u001b[39;00m TimeoutException(message, screen, stacktrace)\n",
      "\u001b[1;31mTimeoutException\u001b[0m: Message: \n"
     ]
    }
   ],
   "source": [
    "## 카테고리 및 매물옵션 선택\n",
    "wait = WebDriverWait(driver, 10)\n",
    "cat_elem = wait.until(EC.element_to_be_clickable((By.CSS_SELECTOR, \"#category1\")))\n",
    "select_object = Select(cat_elem)\n",
    "select_object.select_by_visible_text(\"상가 | 사무실\")"
   ]
  },
  {
   "cell_type": "code",
   "execution_count": 7,
   "id": "b95e6912",
   "metadata": {},
   "outputs": [
    {
     "ename": "ElementNotInteractableException",
     "evalue": "Message: element not interactable: [object HTMLSelectElement] has no size and location\n  (Session info: chrome=120.0.6099.130)\nStacktrace:\n\tGetHandleVerifier [0x00C36EE3+174339]\n\t(No symbol) [0x00B60A51]\n\t(No symbol) [0x00876FF6]\n\t(No symbol) [0x0087AEAC]\n\t(No symbol) [0x0087C585]\n\t(No symbol) [0x0087C622]\n\t(No symbol) [0x008ADDAA]\n\t(No symbol) [0x008AD674]\n\t(No symbol) [0x008E0C5C]\n\t(No symbol) [0x008C700C]\n\t(No symbol) [0x008DA104]\n\t(No symbol) [0x008C6DA6]\n\t(No symbol) [0x008A1034]\n\t(No symbol) [0x008A1F8D]\n\tGetHandleVerifier [0x00CD4B1C+820540]\n\tsqlite3_dbdata_init [0x00D953EE+653550]\n\tsqlite3_dbdata_init [0x00D94E09+652041]\n\tsqlite3_dbdata_init [0x00D897CC+605388]\n\tsqlite3_dbdata_init [0x00D95D9B+656027]\n\t(No symbol) [0x00B6FE6C]\n\t(No symbol) [0x00B683B8]\n\t(No symbol) [0x00B684DD]\n\t(No symbol) [0x00B55818]\n\tBaseThreadInitThunk [0x76D37BA9+25]\n\tRtlInitializeExceptionChain [0x775FBD2B+107]\n\tRtlClearBits [0x775FBCAF+191]\n",
     "output_type": "error",
     "traceback": [
      "\u001b[1;31m---------------------------------------------------------------------------\u001b[0m",
      "\u001b[1;31mElementNotInteractableException\u001b[0m           Traceback (most recent call last)",
      "Cell \u001b[1;32mIn[7], line 4\u001b[0m\n\u001b[0;32m      1\u001b[0m \u001b[38;5;28;01mfrom\u001b[39;00m \u001b[38;5;21;01mselenium\u001b[39;00m\u001b[38;5;21;01m.\u001b[39;00m\u001b[38;5;21;01mwebdriver\u001b[39;00m\u001b[38;5;21;01m.\u001b[39;00m\u001b[38;5;21;01mcommon\u001b[39;00m\u001b[38;5;21;01m.\u001b[39;00m\u001b[38;5;21;01maction_chains\u001b[39;00m \u001b[38;5;28;01mimport\u001b[39;00m ActionChains\n\u001b[0;32m      3\u001b[0m actions \u001b[38;5;241m=\u001b[39m ActionChains(driver)\n\u001b[1;32m----> 4\u001b[0m \u001b[43mactions\u001b[49m\u001b[38;5;241;43m.\u001b[39;49m\u001b[43mmove_to_element\u001b[49m\u001b[43m(\u001b[49m\u001b[43mcat_elem\u001b[49m\u001b[43m)\u001b[49m\u001b[38;5;241;43m.\u001b[39;49m\u001b[43mperform\u001b[49m\u001b[43m(\u001b[49m\u001b[43m)\u001b[49m\n",
      "File \u001b[1;32m~\\OneDrive - 인하대학교\\cs\\project\\estate-web-uploader\\venv\\lib\\site-packages\\selenium\\webdriver\\common\\action_chains.py:94\u001b[0m, in \u001b[0;36mActionChains.perform\u001b[1;34m(self)\u001b[0m\n\u001b[0;32m     92\u001b[0m \u001b[38;5;28;01mdef\u001b[39;00m \u001b[38;5;21mperform\u001b[39m(\u001b[38;5;28mself\u001b[39m) \u001b[38;5;241m-\u001b[39m\u001b[38;5;241m>\u001b[39m \u001b[38;5;28;01mNone\u001b[39;00m:\n\u001b[0;32m     93\u001b[0m \u001b[38;5;250m    \u001b[39m\u001b[38;5;124;03m\"\"\"Performs all stored actions.\"\"\"\u001b[39;00m\n\u001b[1;32m---> 94\u001b[0m     \u001b[38;5;28;43mself\u001b[39;49m\u001b[38;5;241;43m.\u001b[39;49m\u001b[43mw3c_actions\u001b[49m\u001b[38;5;241;43m.\u001b[39;49m\u001b[43mperform\u001b[49m\u001b[43m(\u001b[49m\u001b[43m)\u001b[49m\n",
      "File \u001b[1;32m~\\OneDrive - 인하대학교\\cs\\project\\estate-web-uploader\\venv\\lib\\site-packages\\selenium\\webdriver\\common\\actions\\action_builder.py:96\u001b[0m, in \u001b[0;36mActionBuilder.perform\u001b[1;34m(self)\u001b[0m\n\u001b[0;32m     94\u001b[0m         enc[\u001b[38;5;124m\"\u001b[39m\u001b[38;5;124mactions\u001b[39m\u001b[38;5;124m\"\u001b[39m]\u001b[38;5;241m.\u001b[39mappend(encoded)\n\u001b[0;32m     95\u001b[0m         device\u001b[38;5;241m.\u001b[39mactions \u001b[38;5;241m=\u001b[39m []\n\u001b[1;32m---> 96\u001b[0m \u001b[38;5;28;43mself\u001b[39;49m\u001b[38;5;241;43m.\u001b[39;49m\u001b[43mdriver\u001b[49m\u001b[38;5;241;43m.\u001b[39;49m\u001b[43mexecute\u001b[49m\u001b[43m(\u001b[49m\u001b[43mCommand\u001b[49m\u001b[38;5;241;43m.\u001b[39;49m\u001b[43mW3C_ACTIONS\u001b[49m\u001b[43m,\u001b[49m\u001b[43m \u001b[49m\u001b[43menc\u001b[49m\u001b[43m)\u001b[49m\n",
      "File \u001b[1;32m~\\OneDrive - 인하대학교\\cs\\project\\estate-web-uploader\\venv\\lib\\site-packages\\selenium\\webdriver\\remote\\webdriver.py:348\u001b[0m, in \u001b[0;36mWebDriver.execute\u001b[1;34m(self, driver_command, params)\u001b[0m\n\u001b[0;32m    346\u001b[0m response \u001b[38;5;241m=\u001b[39m \u001b[38;5;28mself\u001b[39m\u001b[38;5;241m.\u001b[39mcommand_executor\u001b[38;5;241m.\u001b[39mexecute(driver_command, params)\n\u001b[0;32m    347\u001b[0m \u001b[38;5;28;01mif\u001b[39;00m response:\n\u001b[1;32m--> 348\u001b[0m     \u001b[38;5;28;43mself\u001b[39;49m\u001b[38;5;241;43m.\u001b[39;49m\u001b[43merror_handler\u001b[49m\u001b[38;5;241;43m.\u001b[39;49m\u001b[43mcheck_response\u001b[49m\u001b[43m(\u001b[49m\u001b[43mresponse\u001b[49m\u001b[43m)\u001b[49m\n\u001b[0;32m    349\u001b[0m     response[\u001b[38;5;124m\"\u001b[39m\u001b[38;5;124mvalue\u001b[39m\u001b[38;5;124m\"\u001b[39m] \u001b[38;5;241m=\u001b[39m \u001b[38;5;28mself\u001b[39m\u001b[38;5;241m.\u001b[39m_unwrap_value(response\u001b[38;5;241m.\u001b[39mget(\u001b[38;5;124m\"\u001b[39m\u001b[38;5;124mvalue\u001b[39m\u001b[38;5;124m\"\u001b[39m, \u001b[38;5;28;01mNone\u001b[39;00m))\n\u001b[0;32m    350\u001b[0m     \u001b[38;5;28;01mreturn\u001b[39;00m response\n",
      "File \u001b[1;32m~\\OneDrive - 인하대학교\\cs\\project\\estate-web-uploader\\venv\\lib\\site-packages\\selenium\\webdriver\\remote\\errorhandler.py:229\u001b[0m, in \u001b[0;36mErrorHandler.check_response\u001b[1;34m(self, response)\u001b[0m\n\u001b[0;32m    227\u001b[0m         alert_text \u001b[38;5;241m=\u001b[39m value[\u001b[38;5;124m\"\u001b[39m\u001b[38;5;124malert\u001b[39m\u001b[38;5;124m\"\u001b[39m]\u001b[38;5;241m.\u001b[39mget(\u001b[38;5;124m\"\u001b[39m\u001b[38;5;124mtext\u001b[39m\u001b[38;5;124m\"\u001b[39m)\n\u001b[0;32m    228\u001b[0m     \u001b[38;5;28;01mraise\u001b[39;00m exception_class(message, screen, stacktrace, alert_text)  \u001b[38;5;66;03m# type: ignore[call-arg]  # mypy is not smart enough here\u001b[39;00m\n\u001b[1;32m--> 229\u001b[0m \u001b[38;5;28;01mraise\u001b[39;00m exception_class(message, screen, stacktrace)\n",
      "\u001b[1;31mElementNotInteractableException\u001b[0m: Message: element not interactable: [object HTMLSelectElement] has no size and location\n  (Session info: chrome=120.0.6099.130)\nStacktrace:\n\tGetHandleVerifier [0x00C36EE3+174339]\n\t(No symbol) [0x00B60A51]\n\t(No symbol) [0x00876FF6]\n\t(No symbol) [0x0087AEAC]\n\t(No symbol) [0x0087C585]\n\t(No symbol) [0x0087C622]\n\t(No symbol) [0x008ADDAA]\n\t(No symbol) [0x008AD674]\n\t(No symbol) [0x008E0C5C]\n\t(No symbol) [0x008C700C]\n\t(No symbol) [0x008DA104]\n\t(No symbol) [0x008C6DA6]\n\t(No symbol) [0x008A1034]\n\t(No symbol) [0x008A1F8D]\n\tGetHandleVerifier [0x00CD4B1C+820540]\n\tsqlite3_dbdata_init [0x00D953EE+653550]\n\tsqlite3_dbdata_init [0x00D94E09+652041]\n\tsqlite3_dbdata_init [0x00D897CC+605388]\n\tsqlite3_dbdata_init [0x00D95D9B+656027]\n\t(No symbol) [0x00B6FE6C]\n\t(No symbol) [0x00B683B8]\n\t(No symbol) [0x00B684DD]\n\t(No symbol) [0x00B55818]\n\tBaseThreadInitThunk [0x76D37BA9+25]\n\tRtlInitializeExceptionChain [0x775FBD2B+107]\n\tRtlClearBits [0x775FBCAF+191]\n"
     ]
    }
   ],
   "source": [
    "from selenium.webdriver.common.action_chains import ActionChains\n",
    "\n",
    "actions = ActionChains(driver)\n",
    "actions.move_to_element(cat_elem).perform()"
   ]
  }
 ],
 "metadata": {
  "kernelspec": {
   "display_name": "Python 3 (ipykernel)",
   "language": "python",
   "name": "python3"
  },
  "language_info": {
   "codemirror_mode": {
    "name": "ipython",
    "version": 3
   },
   "file_extension": ".py",
   "mimetype": "text/x-python",
   "name": "python",
   "nbconvert_exporter": "python",
   "pygments_lexer": "ipython3",
   "version": "3.10.11"
  }
 },
 "nbformat": 4,
 "nbformat_minor": 5
}
